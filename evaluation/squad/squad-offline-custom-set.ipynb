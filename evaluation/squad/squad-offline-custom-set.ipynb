{
 "cells": [
  {
   "cell_type": "code",
   "execution_count": 5,
   "metadata": {},
   "outputs": [
    {
     "name": "stdout",
     "output_type": "stream",
     "text": [
      "['pt_squad-train-v1.1-fixed.json']\n"
     ]
    }
   ],
   "source": [
    "import os\n",
    "\n",
    "squadpt_dir = \"D:\\\\FCT\\\\TESE\\\\ThesisModelTraining\\\\datasets\\\\squadpt1-fixed\\\\train\"\n",
    "file_paths = []\n",
    "for file in os.listdir(squadpt_dir):\n",
    "    if file.endswith('.json'):\n",
    "        file_paths.append(file)\n",
    "print(file_paths)"
   ]
  },
  {
   "cell_type": "code",
   "execution_count": 7,
   "metadata": {},
   "outputs": [
    {
     "name": "stderr",
     "output_type": "stream",
     "text": [
      "Found cached dataset json (C:/Users/ricar/.cache/huggingface/datasets/json/train-f5047b173227b003/0.0.0/e347ab1c932092252e717ff3f949105a4dd28b27e842dd53157d2f72e276c2e4)\n"
     ]
    },
    {
     "name": "stdout",
     "output_type": "stream",
     "text": [
      "Dataset({\n",
      "    features: ['id', 'title', 'context', 'question', 'answers'],\n",
      "    num_rows: 87510\n",
      "})\n"
     ]
    }
   ],
   "source": [
    "from datasets import load_dataset\n",
    "\n",
    "dataset = load_dataset(path=squadpt_dir, split=\"train\", data_files=file_paths)\n",
    "print(dataset)"
   ]
  },
  {
   "cell_type": "code",
   "execution_count": 12,
   "metadata": {},
   "outputs": [
    {
     "name": "stdout",
     "output_type": "stream",
     "text": [
      "Dataset({\n",
      "    features: ['id', 'title', 'context', 'question', 'answers'],\n",
      "    num_rows: 8751\n",
      "}) Dataset({\n",
      "    features: ['id', 'title', 'context', 'question', 'answers'],\n",
      "    num_rows: 78759\n",
      "})\n"
     ]
    }
   ],
   "source": [
    "import random\n",
    "\n",
    "def remove_10_percent(dataset):\n",
    "    # Calculate 10% of the total number of documents\n",
    "    num_documents = len(dataset)\n",
    "    num_documents_to_remove = int(0.1 * num_documents)\n",
    "    \n",
    "    # Randomly select and remove 10% of the documents\n",
    "    documents_indices = list(range(num_documents))\n",
    "    random.shuffle(documents_indices)\n",
    "    documents_to_remove = documents_indices[:num_documents_to_remove]\n",
    "    \n",
    "    # Create a new dataset containing the removed documents\n",
    "    removed_documents = dataset.select(documents_to_remove)\n",
    "    \n",
    "    # Remove the selected documents from the original dataset\n",
    "    filtered_dataset = dataset.select([i for i in range(num_documents) if i not in documents_to_remove])\n",
    "    \n",
    "    return removed_documents, filtered_dataset\n",
    "\n",
    "test_data, train_data = remove_10_percent(dataset)\n",
    "print(test_data, train_data)"
   ]
  },
  {
   "cell_type": "code",
   "execution_count": 14,
   "metadata": {},
   "outputs": [],
   "source": [
    "import jsonlines\n",
    "\n",
    "with jsonlines.open(squadpt_dir + \"pt_squad-train-v1.1-fixed-newtrain.json\", 'a') as d:\n",
    "    d.write_all(train_data)\n",
    "\n",
    "with jsonlines.open(squadpt_dir + \"pt_squad-custom-test-v1.1-fixed.json\", 'a') as d:\n",
    "    d.write_all(test_data)"
   ]
  }
 ],
 "metadata": {
  "kernelspec": {
   "display_name": "thesis",
   "language": "python",
   "name": "python3"
  },
  "language_info": {
   "codemirror_mode": {
    "name": "ipython",
    "version": 3
   },
   "file_extension": ".py",
   "mimetype": "text/x-python",
   "name": "python",
   "nbconvert_exporter": "python",
   "pygments_lexer": "ipython3",
   "version": "3.10.11"
  },
  "orig_nbformat": 4
 },
 "nbformat": 4,
 "nbformat_minor": 2
}
